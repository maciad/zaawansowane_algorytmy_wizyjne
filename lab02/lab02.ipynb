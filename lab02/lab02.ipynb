{
 "cells": [
  {
   "cell_type": "code",
   "execution_count": null,
   "metadata": {},
   "outputs": [],
   "source": [
    "import cv2\n",
    "import numpy as np\n",
    "import matplotlib.pyplot as plt"
   ]
  },
  {
   "cell_type": "markdown",
   "metadata": {},
   "source": [
    "## Zadanie 2.1"
   ]
  },
  {
   "cell_type": "code",
   "execution_count": null,
   "metadata": {},
   "outputs": [],
   "source": [
    "I1 = cv2.imread('../data/pedestrian/input/in000300.jpg')\n",
    "I1 = cv2.cvtColor(I1, cv2.COLOR_BGR2GRAY)\n",
    "I1 = I1.astype('int')\n",
    "\n",
    "for i in range(301, 1100):\n",
    "    I2 = cv2.imread('../data/pedestrian/input/in%06d.jpg' % i)\n",
    "    I2 = cv2.cvtColor(I2, cv2.COLOR_BGR2GRAY)\n",
    "    I2 = I2.astype('int')\n",
    "    Diff = abs(I2 - I1).astype('uint8')\n",
    "    T, binarized = cv2.threshold(Diff, 50, 255, cv2.THRESH_BINARY)\n",
    "    cv2.imshow('I', binarized)\n",
    "    cv2.waitKey(10)\n",
    "    I1 = I2\n",
    "cv2.destroyAllWindows()"
   ]
  },
  {
   "cell_type": "markdown",
   "metadata": {},
   "source": [
    "## Zadanie 2.2"
   ]
  },
  {
   "cell_type": "code",
   "execution_count": null,
   "metadata": {},
   "outputs": [],
   "source": [
    "I1 = cv2.imread('../data/pedestrian/input/in000300.jpg')\n",
    "I1 = cv2.cvtColor(I1, cv2.COLOR_BGR2GRAY)\n",
    "I1 = I1.astype('int')\n",
    "\n",
    "for i in range(301, 1100):\n",
    "    I2 = cv2.imread('../data/pedestrian/input/in%06d.jpg' % i)\n",
    "    I2 = cv2.cvtColor(I2, cv2.COLOR_BGR2GRAY)\n",
    "    I2 = I2.astype('int')\n",
    "    Diff = abs(I2 - I1).astype('uint8')\n",
    "    T, binarized = cv2.threshold(Diff, 10, 255, cv2.THRESH_BINARY)\n",
    "\n",
    "    binarized = cv2.medianBlur(binarized, 7)\n",
    "    binarized = cv2.erode(binarized, np.ones((3, 3), np.uint8))\n",
    "    binarized = cv2.dilate(binarized, np.ones((9, 9), np.uint8))\n",
    "\n",
    "    retval, labels, stats, centroids = cv2.connectedComponentsWithStats(binarized)\n",
    "    labels = np.uint8(labels / retval * 255)\n",
    "    cv2.imshow('I', labels)\n",
    "    cv2.imshow('I', binarized)\n",
    "    cv2.waitKey(10)\n",
    "    I1 = I2\n",
    "cv2.destroyAllWindows()"
   ]
  },
  {
   "cell_type": "markdown",
   "metadata": {},
   "source": [
    "## Zadanie 2.3"
   ]
  },
  {
   "cell_type": "code",
   "execution_count": null,
   "metadata": {},
   "outputs": [],
   "source": [
    "I1 = cv2.imread('../data/pedestrian/input/in000300.jpg')\n",
    "I1 = cv2.cvtColor(I1, cv2.COLOR_BGR2GRAY)\n",
    "I1 = I1.astype('int')\n",
    "\n",
    "for i in range(301, 1100):\n",
    "    I2 = cv2.imread('../data/pedestrian/input/in%06d.jpg' % i)\n",
    "    I_VIS = I2.copy().astype('uint8')\n",
    "    I2 = cv2.cvtColor(I2, cv2.COLOR_BGR2GRAY)\n",
    "    I2 = I2.astype('int')\n",
    "    Diff = abs(I2 - I1).astype('uint8')\n",
    "    T, binarized = cv2.threshold(Diff, 10, 255, cv2.THRESH_BINARY)\n",
    "\n",
    "    binarized = cv2.medianBlur(binarized, 7)\n",
    "    binarized = cv2.erode(binarized, np.ones((3, 3), np.uint8))\n",
    "    binarized = cv2.dilate(binarized, np.ones((9, 9), np.uint8))\n",
    "\n",
    "    retval, labels, stats, centroids = cv2.connectedComponentsWithStats(binarized)\n",
    "    # labels = np.uint8(labels / retval * 255)\n",
    "    if stats.shape[0] > 1:\n",
    "        tab = stats[1:,4]\n",
    "        pi = np.argmax(tab)\n",
    "        pi += 1\n",
    "        # minimal bounding box\n",
    "        if stats[pi, 2]  > 30 or stats[pi, 3]  > 30:\n",
    "            cv2.rectangle(I_VIS ,(stats[pi ,0],stats[pi ,1]) ,(stats[pi ,0]+ stats[pi ,2], stats[pi,1]+ stats[pi ,3]) ,(255,0,0) ,2)\n",
    "            # cv2.putText(I_VIS ,\"%f\" % stats[pi ,4],( stats[pi ,0],stats[pi ,1]),cv2.FONT_HERSHEY_SIMPLEX ,0.5 ,(255 ,0 ,0))\n",
    "            # cv2.putText(I_VIS ,\"%d\" %pi ,(np.int32(centroids[pi ,0]),np.int32(centroids[pi ,1])),cv2.FONT_HERSHEY_SIMPLEX ,1,(255,0,0))\n",
    "    cv2.imshow('I', I_VIS)\n",
    "\n",
    "\n",
    "    cv2.waitKey(10)\n",
    "    I1 = I2\n",
    "cv2.destroyAllWindows()\n"
   ]
  },
  {
   "cell_type": "markdown",
   "metadata": {},
   "source": [
    "## Zadanie 2.4"
   ]
  },
  {
   "cell_type": "code",
   "execution_count": null,
   "metadata": {},
   "outputs": [],
   "source": [
    "I1 = cv2.imread('../data/pedestrian/input/in000300.jpg')\n",
    "I1 = cv2.cvtColor(I1, cv2.COLOR_BGR2GRAY)\n",
    "I1 = I1.astype('int')\n",
    "\n",
    "TP = 0\n",
    "TN = 0\n",
    "FP = 0\n",
    "FN = 0\n",
    "\n",
    "for i in range(301, 1100):\n",
    "    I2 = cv2.imread('../data/pedestrian/input/in%06d.jpg' % i)\n",
    "    I2 = cv2.cvtColor(I2, cv2.COLOR_BGR2GRAY)\n",
    "    I2 = I2.astype('int')\n",
    "\n",
    "    Diff = abs(I2 - I1).astype('uint8')\n",
    "    T, binarized = cv2.threshold(Diff, 10, 255, cv2.THRESH_BINARY)\n",
    "\n",
    "    binarized = cv2.medianBlur(binarized, 7)\n",
    "    binarized = cv2.erode(binarized, np.ones((3, 3), np.uint8))\n",
    "    binarized = cv2.dilate(binarized, np.ones((3, 3), np.uint8))\n",
    "\n",
    "    grountruth = cv2.imread('../data/pedestrian/groundtruth/gt%06d.png' % i, cv2.IMREAD_GRAYSCALE)\n",
    "    \n",
    "    TP_matrix = np.logical_and((binarized > 0), (grountruth > 0))\n",
    "    TN_matrix = np.logical_and((binarized == 0), (grountruth == 0))\n",
    "    FP_matrix = np.logical_and((binarized > 0), (grountruth == 0))\n",
    "    FN_matrix = np.logical_and((binarized == 0), (grountruth > 0))\n",
    "\n",
    "    TP += TP_matrix.sum()\n",
    "    TN += TN_matrix.sum()\n",
    "    FP += FP_matrix.sum()\n",
    "    FN += FN_matrix.sum()\n",
    "\n",
    "P = TP / (TP + FP)\n",
    "R = TP / (TP + FN)\n",
    "F1 = 2 * P * R / (P + R)\n",
    "\n",
    "print('Precision:', P)\n",
    "print('Recall:', R)\n",
    "print('F1:', F1)"
   ]
  },
  {
   "cell_type": "markdown",
   "metadata": {},
   "source": [
    "## Dodatkowo zaznaczanie wszystkich wyznaczonych obiektów"
   ]
  },
  {
   "cell_type": "code",
   "execution_count": null,
   "metadata": {},
   "outputs": [],
   "source": [
    "I1 = cv2.imread('../data/pedestrian/input/in000300.jpg')\n",
    "I1 = cv2.cvtColor(I1, cv2.COLOR_BGR2GRAY)\n",
    "I1 = I1.astype('int')\n",
    "\n",
    "for i in range(301, 1100):\n",
    "    I2 = cv2.imread('../data/pedestrian/input/in%06d.jpg' % i)\n",
    "    I_VIS = I2.copy().astype('uint8')\n",
    "    I2 = cv2.cvtColor(I2, cv2.COLOR_BGR2GRAY)\n",
    "    I2 = I2.astype('int')\n",
    "    Diff = abs(I2 - I1).astype('uint8')\n",
    "    T, binarized = cv2.threshold(Diff, 10, 255, cv2.THRESH_BINARY)\n",
    "\n",
    "    binarized = cv2.medianBlur(binarized, 7)\n",
    "    binarized = cv2.erode(binarized, np.ones((3, 3), np.uint8))\n",
    "    binarized = cv2.dilate(binarized, np.ones((9, 9), np.uint8))\n",
    "\n",
    "    retval, labels, stats, centroids = cv2.connectedComponentsWithStats(binarized)\n",
    "    for obj_id in range(1, retval):\n",
    "        if stats[obj_id, 2] > 35 and stats[obj_id, 3] > 35:\n",
    "            cv2.rectangle(I_VIS, (stats[obj_id, 0], stats[obj_id, 1]), (stats[obj_id, 0] + stats[obj_id, 2], stats[obj_id, 1] + stats[obj_id, 3]), (255, 0, 0), 2)\n",
    "    cv2.imshow('I', I_VIS)\n",
    "    cv2.waitKey(10)\n",
    "    I1 = I2\n",
    "\n",
    "cv2.destroyAllWindows()"
   ]
  }
 ],
 "metadata": {
  "kernelspec": {
   "display_name": "poc",
   "language": "python",
   "name": "python3"
  },
  "language_info": {
   "codemirror_mode": {
    "name": "ipython",
    "version": 3
   },
   "file_extension": ".py",
   "mimetype": "text/x-python",
   "name": "python",
   "nbconvert_exporter": "python",
   "pygments_lexer": "ipython3",
   "version": "3.11.5"
  }
 },
 "nbformat": 4,
 "nbformat_minor": 2
}
