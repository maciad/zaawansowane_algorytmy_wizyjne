{
 "cells": [
  {
   "cell_type": "code",
   "execution_count": null,
   "metadata": {},
   "outputs": [],
   "source": [
    "import cv2\n",
    "import numpy as np\n",
    "import matplotlib.pyplot as plt"
   ]
  },
  {
   "cell_type": "markdown",
   "metadata": {},
   "source": [
    "## Zadanie 4.1"
   ]
  },
  {
   "cell_type": "code",
   "execution_count": null,
   "metadata": {},
   "outputs": [],
   "source": [
    "I = cv2.imread('../data/images/I.jpg')\n",
    "I = cv2.cvtColor(I, cv2.COLOR_BGR2GRAY)\n",
    "J = cv2.imread('../data/images/J.jpg')\n",
    "J = cv2.cvtColor(J, cv2.COLOR_BGR2GRAY)\n",
    "\n",
    "difference = cv2.absdiff(I, J)"
   ]
  },
  {
   "cell_type": "code",
   "execution_count": null,
   "metadata": {},
   "outputs": [],
   "source": [
    "plt.subplots(1, 3, figsize=(15, 5))\n",
    "plt.subplot(1, 3, 1)\n",
    "plt.imshow(I, 'gray')\n",
    "plt.axis('off')\n",
    "plt.subplot(1, 3, 2)\n",
    "plt.imshow(J, 'gray')\n",
    "plt.axis('off')\n",
    "plt.subplot(1, 3, 3)\n",
    "plt.imshow(difference, 'gray')\n",
    "plt.axis('off')\n",
    "plt.show()"
   ]
  },
  {
   "cell_type": "code",
   "execution_count": null,
   "metadata": {},
   "outputs": [],
   "source": [
    "def block_optical_flow(I, J, W2, dX, dY):\n",
    "    X, Y = I.shape\n",
    "    u = np.zeros(I.shape)\n",
    "    v = np.zeros(I.shape)\n",
    "    for j in range(W2 * 2, X - (W2 * 2)):\n",
    "        for i in range(W2 * 2, Y - (W2 * 2)):\n",
    "            IO = I[j-W2:j+W2+1, i-W2:i+W2+1].astype(float)\n",
    "\n",
    "            min_distance = np.inf\n",
    "            for y in range(-dX, dX + 1):\n",
    "                for x in range(-dY, dY + 1):\n",
    "                        JO = J[j-W2+y:j+W2+y+1, i-W2+x:i-W2+x+1].astype(float)\n",
    "                        distance = np.sqrt(np.sum(np.square(JO - IO)))\n",
    "                        if distance < min_distance:\n",
    "                            min_distance = distance\n",
    "                            u[j, i] = x\n",
    "                            v[j, i] = y\n",
    "    return u, v\n",
    "\n",
    "def vis_flow(u, v):\n",
    "    magnitude, angle = cv2.cartToPolar(u, v)\n",
    "    magnitude_normalized = cv2.normalize(magnitude, None, 0, 255, cv2.NORM_MINMAX)\n",
    "\n",
    "    HSV = np.zeros((u.shape[0], u.shape[1], 3), dtype=np.uint8)\n",
    "    HSV[:,:,0] = (angle * 90 / np.pi).astype(np.uint8)\n",
    "    HSV[:,:,1] = magnitude_normalized.astype(np.uint8)\n",
    "    HSV[:,:,2] = np.uint8(255)\n",
    "\n",
    "    RGB = cv2.cvtColor(HSV, cv2.COLOR_HSV2RGB)\n",
    "\n",
    "    plt.imshow(RGB)\n",
    "    plt.show()"
   ]
  },
  {
   "cell_type": "code",
   "execution_count": null,
   "metadata": {},
   "outputs": [],
   "source": [
    "W2 = dX = dY = 3"
   ]
  },
  {
   "cell_type": "code",
   "execution_count": null,
   "metadata": {},
   "outputs": [],
   "source": [
    "u, v = block_optical_flow(I, J, W2, dX, dY)\n",
    "\n",
    "vis_flow(u, v)"
   ]
  },
  {
   "cell_type": "markdown",
   "metadata": {},
   "source": [
    "#### Inna sekwencja obrazów"
   ]
  },
  {
   "cell_type": "code",
   "execution_count": null,
   "metadata": {},
   "outputs": [],
   "source": [
    "I2 = cv2.imread('../data/images/cm1.png')\n",
    "I2 = cv2.cvtColor(I2, cv2.COLOR_BGR2GRAY)\n",
    "J2 = cv2.imread('../data/images/cm2.png')\n",
    "J2 = cv2.cvtColor(J2, cv2.COLOR_BGR2GRAY)"
   ]
  },
  {
   "cell_type": "code",
   "execution_count": null,
   "metadata": {},
   "outputs": [],
   "source": [
    "W2 = dX = dY = 3"
   ]
  },
  {
   "cell_type": "code",
   "execution_count": null,
   "metadata": {},
   "outputs": [],
   "source": [
    "u2, v2 = block_optical_flow(I2, J2, W2, dX, dY)\n",
    "\n",
    "vis_flow(u2, v2)"
   ]
  },
  {
   "cell_type": "markdown",
   "metadata": {},
   "source": [
    "## Zadanie 4.2"
   ]
  },
  {
   "cell_type": "code",
   "execution_count": null,
   "metadata": {},
   "outputs": [],
   "source": [
    "def pyramid(im, max_scale):\n",
    "    images =[im]\n",
    "    for k in range(1, max_scale):\n",
    "        images.append(cv2.resize(images[k - 1], (0, 0), fx=0.5, fy=0.5))\n",
    "    return images"
   ]
  },
  {
   "cell_type": "code",
   "execution_count": null,
   "metadata": {},
   "outputs": [],
   "source": [
    "def of(I, J, W2=3, dY=3, dX=3):\n",
    "    X, Y = I.shape\n",
    "    u = np.zeros(I.shape)\n",
    "    v = np.zeros(I.shape)\n",
    "\n",
    "    for j in range(W2 * 2, X - (W2 * 2)):\n",
    "        for i in range(W2 * 2, Y - (W2 * 2)):\n",
    "            IO = I[j-W2:j+W2+1, i-W2:i+W2+1].astype(float)\n",
    "\n",
    "            min_distance = np.inf\n",
    "            for y in range(-dX, dX + 1):\n",
    "                for x in range(-dY, dY + 1):\n",
    "                        JO = J[j-W2+y:j+W2+y+1, i-W2+x:i-W2+x+1].astype(float)\n",
    "                        distance = np.sqrt(np.sum(np.square(JO - IO)))\n",
    "                        if distance < min_distance:\n",
    "                            min_distance = distance\n",
    "                            u[j, i] = x\n",
    "                            v[j, i] = y\n",
    "    return u, v"
   ]
  },
  {
   "cell_type": "code",
   "execution_count": null,
   "metadata": {},
   "outputs": [],
   "source": [
    "I_pyramid = pyramid(I, 4)\n",
    "J_pyramid = pyramid(J, 4)\n",
    "\n",
    "I = I_pyramid[-1]\n",
    "J = J_pyramid[-1]\n",
    "\n",
    "for s in range(len(I_pyramid) - 2, -1, -1):\n",
    "    u, v = of(I_pyramid[s], J_pyramid[s], W2, dY, dX)\n",
    "\n",
    "    I_new = np.zeros(I.shape, dtype=np.uint8)\n",
    "    for j in range(I.shape[0]):\n",
    "        for i in range(I.shape[1]):\n",
    "            x = min(max(i + u[j, i], 0), I.shape[1] - 1)\n",
    "            y = min(max(j + v[j, i], 0), I.shape[0] - 1)\n",
    "            I_new[j, i] = I[int(y), int(x)]\n",
    "            \n",
    "    I = cv2.resize(I_new, (0, 0), fx=2, fy=2)\n",
    "    J = J_pyramid[s]\n",
    "\n",
    "vis_flow(u, v)"
   ]
  },
  {
   "cell_type": "markdown",
   "metadata": {},
   "source": [
    "#### Inna sekwencja obrazów"
   ]
  },
  {
   "cell_type": "code",
   "execution_count": null,
   "metadata": {},
   "outputs": [],
   "source": [
    "I_pyramid = pyramid(I2, 4)\n",
    "J_pyramid = pyramid(J2, 4)\n",
    "\n",
    "I = I_pyramid[-1]\n",
    "J = J_pyramid[-1]\n",
    "\n",
    "for s in range(len(I_pyramid) - 2, -1, -1):\n",
    "    u, v = of(I_pyramid[s], J_pyramid[s], W2, dY, dX)\n",
    "\n",
    "    I_new = np.zeros(I.shape, dtype=np.uint8)\n",
    "    for j in range(I.shape[0]):\n",
    "        for i in range(I.shape[1]):\n",
    "            x = min(max(i + u[j, i], 0), I.shape[1] - 1)\n",
    "            y = min(max(j + v[j, i], 0), I.shape[0] - 1)\n",
    "            I_new[j, i] = I[int(y), int(x)]\n",
    "            \n",
    "    I = cv2.resize(I_new, (0, 0), fx=2, fy=2)\n",
    "    J = J_pyramid[s]\n",
    "\n",
    "vis_flow(u, v)"
   ]
  }
 ],
 "metadata": {
  "kernelspec": {
   "display_name": "poc",
   "language": "python",
   "name": "python3"
  },
  "language_info": {
   "codemirror_mode": {
    "name": "ipython",
    "version": 3
   },
   "file_extension": ".py",
   "mimetype": "text/x-python",
   "name": "python",
   "nbconvert_exporter": "python",
   "pygments_lexer": "ipython3",
   "version": "3.11.5"
  }
 },
 "nbformat": 4,
 "nbformat_minor": 2
}
