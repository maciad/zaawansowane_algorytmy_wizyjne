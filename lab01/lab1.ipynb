{
 "cells": [
  {
   "cell_type": "code",
   "execution_count": null,
   "metadata": {},
   "outputs": [],
   "source": [
    "import cv2\n",
    "import matplotlib.pyplot as plt\n",
    "from matplotlib.patches import Rectangle"
   ]
  },
  {
   "cell_type": "markdown",
   "metadata": {},
   "source": [
    "## Zadanie 1.1"
   ]
  },
  {
   "cell_type": "code",
   "execution_count": null,
   "metadata": {},
   "outputs": [],
   "source": [
    "I = cv2.imread('mandril.jpg')"
   ]
  },
  {
   "cell_type": "code",
   "execution_count": null,
   "metadata": {},
   "outputs": [],
   "source": [
    "cv2.imshow('mandril', I)\n",
    "cv2.waitKey(0)\n",
    "cv2.destroyAllWindows()"
   ]
  },
  {
   "cell_type": "code",
   "execution_count": null,
   "metadata": {},
   "outputs": [],
   "source": [
    "cv2.imwrite('m.png', I)"
   ]
  },
  {
   "cell_type": "markdown",
   "metadata": {},
   "source": [
    "## Zadanie 1.2"
   ]
  },
  {
   "cell_type": "code",
   "execution_count": null,
   "metadata": {},
   "outputs": [],
   "source": [
    "I = plt.imread('mandril.jpg')"
   ]
  },
  {
   "cell_type": "code",
   "execution_count": null,
   "metadata": {},
   "outputs": [],
   "source": [
    "fig, ax = plt.subplots(1)\n",
    "plt.imshow(I)\n",
    "plt.title('mandril')\n",
    "plt.axis('off')\n",
    "\n",
    "x = [ 100, 150, 200, 250]\n",
    "y = [ 50, 100, 150, 200]\n",
    "plt.plot(x, y, 'r.', markersize=10)\n",
    "\n",
    "rect = Rectangle((50, 100), 100, 100, ec='r', fill=False)\n",
    "ax.add_patch(rect)\n",
    "\n",
    "plt.show()"
   ]
  },
  {
   "cell_type": "code",
   "execution_count": null,
   "metadata": {},
   "outputs": [],
   "source": [
    "plt.imsave('mandril.png', I)"
   ]
  },
  {
   "cell_type": "markdown",
   "metadata": {},
   "source": [
    "## Zadanie 1.3"
   ]
  },
  {
   "cell_type": "code",
   "execution_count": null,
   "metadata": {},
   "outputs": [],
   "source": [
    "I_gray = cv2.cvtColor(I, cv2.COLOR_BGR2GRAY)\n",
    "I_HSV = cv2.cvtColor(I, cv2.COLOR_BGR2HSV)"
   ]
  },
  {
   "cell_type": "code",
   "execution_count": null,
   "metadata": {},
   "outputs": [],
   "source": [
    "plt.subplots(1, 3, figsize=(15, 5))\n",
    "plt.subplot(131)\n",
    "plt.imshow(I)\n",
    "plt.title('RGB')\n",
    "plt.axis('off')\n",
    "\n",
    "plt.subplot(132)\n",
    "plt.imshow(I_gray, cmap='gray')\n",
    "plt.title('Gray')\n",
    "plt.axis('off')\n",
    "\n",
    "plt.subplot(133)\n",
    "plt.imshow(I_HSV, cmap='hsv')\n",
    "plt.title('HSV')\n",
    "plt.axis('off')\n",
    "\n",
    "plt.show()"
   ]
  },
  {
   "cell_type": "code",
   "execution_count": null,
   "metadata": {},
   "outputs": [],
   "source": [
    "H = I_HSV[:, :, 0]\n",
    "S = I_HSV[:, :, 1]\n",
    "V = I_HSV[:, :, 2]"
   ]
  },
  {
   "cell_type": "code",
   "execution_count": null,
   "metadata": {},
   "outputs": [],
   "source": [
    "plt.subplots(1, 3, figsize=(15, 5))\n",
    "plt.subplot(131)\n",
    "plt.imshow(H, cmap='gray')\n",
    "plt.title('Hue')\n",
    "plt.axis('off')\n",
    "\n",
    "plt.subplot(132)\n",
    "plt.imshow(S, cmap='gray')\n",
    "plt.title('Saturation')\n",
    "plt.axis('off')\n",
    "\n",
    "plt.subplot(133)\n",
    "plt.imshow(V, cmap='gray')\n",
    "plt.title('Value')\n",
    "plt.axis('off')\n",
    "\n",
    "plt.show()"
   ]
  },
  {
   "cell_type": "markdown",
   "metadata": {},
   "source": [
    "## Zadanie 1.4\n"
   ]
  },
  {
   "cell_type": "code",
   "execution_count": null,
   "metadata": {},
   "outputs": [],
   "source": [
    "height, width = I.shape[:2]\n",
    "scale = 1.75\n",
    "I_resized = cv2.resize(I, (int(scale * width), int(scale * height)))"
   ]
  },
  {
   "cell_type": "code",
   "execution_count": null,
   "metadata": {},
   "outputs": [],
   "source": [
    "plt.subplots(1, 2, figsize=(10, 5))\n",
    "plt.subplot(121)\n",
    "plt.imshow(I)\n",
    "plt.title('Original')\n",
    "\n",
    "plt.subplot(122)\n",
    "plt.imshow(I_resized)\n",
    "plt.title('Resized')\n",
    "\n",
    "plt.show()"
   ]
  },
  {
   "cell_type": "markdown",
   "metadata": {},
   "source": [
    "## Zadanie 1.5"
   ]
  },
  {
   "cell_type": "code",
   "execution_count": null,
   "metadata": {},
   "outputs": [],
   "source": [
    "lena = cv2.imread('lena.png', cv2.IMREAD_GRAYSCALE)\n",
    "mandril = cv2.imread('mandril.png', cv2.IMREAD_GRAYSCALE)\n",
    "\n",
    "sum = cv2.add(lena.astype(float), mandril.astype(float))\n",
    "diff = cv2.subtract(lena.astype(float), mandril.astype(float))\n",
    "mult = cv2.multiply(lena.astype(float), mandril.astype(float))"
   ]
  },
  {
   "cell_type": "code",
   "execution_count": null,
   "metadata": {},
   "outputs": [],
   "source": [
    "def linear_combination(img1, img2, alpha):\n",
    "    img1 = img1.astype(float)\n",
    "    img2 = img2.astype(float)\n",
    "    return (1 - alpha) * img1 + alpha * img2"
   ]
  },
  {
   "cell_type": "code",
   "execution_count": null,
   "metadata": {},
   "outputs": [],
   "source": [
    "combined = linear_combination(lena, mandril, 0.8)"
   ]
  },
  {
   "cell_type": "code",
   "execution_count": null,
   "metadata": {},
   "outputs": [],
   "source": [
    "plt.subplots(2, 2, figsize=(10, 10))\n",
    "plt.subplot(221)\n",
    "plt.imshow(sum, cmap='gray')\n",
    "plt.title('Sum')\n",
    "plt.axis('off')\n",
    "\n",
    "plt.subplot(222)\n",
    "plt.imshow(diff, cmap='gray')\n",
    "plt.title('Difference')\n",
    "plt.axis('off')\n",
    "\n",
    "plt.subplot(223)\n",
    "plt.imshow(mult, cmap='gray')\n",
    "plt.title('Multiplication')\n",
    "plt.axis('off')\n",
    "\n",
    "plt.subplot(224)\n",
    "plt.imshow(combined, cmap='gray')\n",
    "plt.title('Linear combination')\n",
    "plt.axis('off')\n",
    "\n",
    "plt.show()"
   ]
  },
  {
   "cell_type": "code",
   "execution_count": null,
   "metadata": {},
   "outputs": [],
   "source": [
    "absdiff = cv2.absdiff(lena, mandril).astype('uint8')\n",
    "plt.imshow(absdiff, cmap='gray')\n",
    "plt.title('Absolute difference')\n",
    "plt.show()"
   ]
  },
  {
   "cell_type": "markdown",
   "metadata": {},
   "source": [
    "## Zadanie 1.6"
   ]
  },
  {
   "cell_type": "code",
   "execution_count": null,
   "metadata": {},
   "outputs": [],
   "source": [
    "clahe = cv2.createCLAHE(clipLimit=2.0, tileGridSize=(8, 8))\n",
    "lena_clahe = clahe.apply(lena)\n",
    "lena_equalized = cv2.equalizeHist(lena)"
   ]
  },
  {
   "cell_type": "code",
   "execution_count": null,
   "metadata": {},
   "outputs": [],
   "source": [
    "plt.subplots(1, 3, figsize=(15, 5))\n",
    "plt.subplot(131)\n",
    "plt.imshow(lena, cmap='gray')\n",
    "plt.title('Original')\n",
    "plt.axis('off')\n",
    "\n",
    "plt.subplot(132)\n",
    "plt.imshow(lena_clahe, cmap='gray')\n",
    "plt.title('CLAHE')\n",
    "plt.axis('off')\n",
    "\n",
    "plt.subplot(133)\n",
    "plt.imshow(lena_equalized, cmap='gray')\n",
    "plt.title('Equalized')\n",
    "plt.axis('off')\n",
    "\n",
    "plt.show()"
   ]
  }
 ],
 "metadata": {
  "kernelspec": {
   "display_name": "poc",
   "language": "python",
   "name": "python3"
  },
  "language_info": {
   "codemirror_mode": {
    "name": "ipython",
    "version": 3
   },
   "file_extension": ".py",
   "mimetype": "text/x-python",
   "name": "python",
   "nbconvert_exporter": "python",
   "pygments_lexer": "ipython3",
   "version": "3.11.5"
  }
 },
 "nbformat": 4,
 "nbformat_minor": 2
}
