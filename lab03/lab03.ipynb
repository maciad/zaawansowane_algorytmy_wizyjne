{
 "cells": [
  {
   "cell_type": "code",
   "execution_count": 47,
   "metadata": {},
   "outputs": [],
   "source": [
    "import os\n",
    "import cv2\n",
    "import numpy as np\n",
    "import matplotlib.pyplot as plt"
   ]
  },
  {
   "cell_type": "markdown",
   "metadata": {},
   "source": [
    "## Zadanie 3.1"
   ]
  },
  {
   "cell_type": "code",
   "execution_count": 48,
   "metadata": {},
   "outputs": [],
   "source": [
    "N = 60\n",
    "s = cv2.imread('../data/lab2-3/pedestrian/input/in000001.jpg')\n",
    "XX, YY = s.shape[:2]\n",
    "BUF = np.zeros((XX, YY, N), np.uint8)\n",
    "iN = 0"
   ]
  },
  {
   "cell_type": "code",
   "execution_count": 49,
   "metadata": {},
   "outputs": [],
   "source": [
    "path, dirs, files = next(os.walk(\"../data/lab2-3/pedestrian/input/\"))\n",
    "num_samples = len(files)"
   ]
  },
  {
   "cell_type": "markdown",
   "metadata": {},
   "source": [
    "#### Średnia"
   ]
  },
  {
   "cell_type": "code",
   "execution_count": 56,
   "metadata": {},
   "outputs": [
    {
     "ename": "KeyboardInterrupt",
     "evalue": "",
     "output_type": "error",
     "traceback": [
      "\u001b[0;31m---------------------------------------------------------------------------\u001b[0m",
      "\u001b[0;31mKeyboardInterrupt\u001b[0m                         Traceback (most recent call last)",
      "Cell \u001b[0;32mIn[56], line 19\u001b[0m\n\u001b[1;32m     16\u001b[0m     dilated \u001b[38;5;241m=\u001b[39m cv2\u001b[38;5;241m.\u001b[39mdilate(eroded, np\u001b[38;5;241m.\u001b[39mones((\u001b[38;5;241m5\u001b[39m, \u001b[38;5;241m5\u001b[39m), np\u001b[38;5;241m.\u001b[39muint8))\n\u001b[1;32m     18\u001b[0m     cv2\u001b[38;5;241m.\u001b[39mimshow(\u001b[38;5;124m'\u001b[39m\u001b[38;5;124mdiff\u001b[39m\u001b[38;5;124m'\u001b[39m, dilated)\n\u001b[0;32m---> 19\u001b[0m     \u001b[43mcv2\u001b[49m\u001b[38;5;241;43m.\u001b[39;49m\u001b[43mwaitKey\u001b[49m\u001b[43m(\u001b[49m\u001b[38;5;241;43m1\u001b[39;49m\u001b[43m)\u001b[49m\n\u001b[1;32m     20\u001b[0m cv2\u001b[38;5;241m.\u001b[39mdestroyAllWindows()\n",
      "\u001b[0;31mKeyboardInterrupt\u001b[0m: "
     ]
    }
   ],
   "source": [
    "for i in range(300, num_samples):\n",
    "    I = cv2.imread('../data/lab2-3/pedestrian/input/in' + str(i).zfill(6) + '.jpg')\n",
    "    IG = cv2.cvtColor(I, cv2.COLOR_BGR2GRAY)\n",
    "    BUF[:, :, iN] = IG\n",
    "    iN = (iN + 1) % N\n",
    "\n",
    "    mean = np.mean(BUF, axis=2).astype(np.uint8)\n",
    "    diff = cv2.absdiff(mean, IG)\n",
    "\n",
    "    T, binarized = cv2.threshold(diff, 20, 255, cv2.THRESH_BINARY)\n",
    "    \n",
    "    median_filtered = cv2.medianBlur(binarized, 5)\n",
    "    eroded = cv2.erode(median_filtered, np.ones((3, 3), np.uint8))\n",
    "    dilated = cv2.dilate(eroded, np.ones((5, 5), np.uint8))\n",
    "\n",
    "    cv2.imshow('diff', dilated)\n",
    "    cv2.waitKey(1)\n",
    "cv2.destroyAllWindows()"
   ]
  },
  {
   "cell_type": "code",
   "execution_count": 57,
   "metadata": {},
   "outputs": [
    {
     "name": "stdout",
     "output_type": "stream",
     "text": [
      "Precision: 0.46341843643873004\n",
      "Recall: 0.8556137111263624\n",
      "F1: 0.6012092562530225\n"
     ]
    }
   ],
   "source": [
    "TP = 0\n",
    "TN = 0\n",
    "FP = 0\n",
    "FN = 0\n",
    "\n",
    "for i in range(300, num_samples):\n",
    "    I = cv2.imread('../data/lab2-3/pedestrian/input/in' + str(i).zfill(6) + '.jpg')\n",
    "    IG = cv2.cvtColor(I, cv2.COLOR_BGR2GRAY)\n",
    "    BUF[:, :, iN] = IG\n",
    "    iN = (iN + 1) % N\n",
    "\n",
    "    mean = np.mean(BUF, axis=2).astype(np.uint8)\n",
    "    diff = cv2.absdiff(mean, IG)\n",
    "\n",
    "    T, binarized = cv2.threshold(diff, 20, 255, cv2.THRESH_BINARY)\n",
    "    \n",
    "    median_filtered = cv2.medianBlur(binarized, 5)\n",
    "    eroded = cv2.erode(median_filtered, np.ones((3, 3), np.uint8))\n",
    "    dilated = cv2.dilate(eroded, np.ones((5, 5), np.uint8))\n",
    "\n",
    "    groundtruth = cv2.imread('../data/lab2-3/pedestrian/groundtruth/gt' + str(i).zfill(6) + '.png')\n",
    "    groundtruth = cv2.cvtColor(groundtruth, cv2.COLOR_BGR2GRAY)\n",
    "\n",
    "    TP_matrix = np.logical_and((dilated > 0), (groundtruth > 0))\n",
    "    TN_matrix = np.logical_and((dilated == 0), (groundtruth == 0))\n",
    "    FP_matrix = np.logical_and((dilated > 0), (groundtruth == 0))\n",
    "    FN_matrix = np.logical_and((dilated == 0), (groundtruth > 0))\n",
    "\n",
    "    TP += TP_matrix.sum()\n",
    "    TN += TN_matrix.sum()\n",
    "    FP += FP_matrix.sum()\n",
    "    FN += FN_matrix.sum()\n",
    "\n",
    "P = TP / (TP + FP)\n",
    "R = TP / (TP + FN)\n",
    "F1 = 2 * P * R / (P + R)\n",
    "\n",
    "print('Precision:', P)\n",
    "print('Recall:', R)\n",
    "print('F1:', F1)"
   ]
  },
  {
   "cell_type": "markdown",
   "metadata": {},
   "source": [
    "#### Mediana"
   ]
  },
  {
   "cell_type": "code",
   "execution_count": null,
   "metadata": {},
   "outputs": [],
   "source": [
    "for i in range(300, num_samples):\n",
    "    I = cv2.imread('../data/lab2-3/pedestrian/input/in' + str(i).zfill(6) + '.jpg')\n",
    "    IG = cv2.cvtColor(I, cv2.COLOR_BGR2GRAY)\n",
    "    BUF[:, :, iN] = IG\n",
    "    iN = (iN + 1) % N\n",
    "\n",
    "    median = np.median(BUF, axis=2).astype(np.uint8)\n",
    "    diff = cv2.absdiff(median, IG)\n",
    "\n",
    "    T, binarized = cv2.threshold(diff, 20, 255, cv2.THRESH_BINARY)\n",
    "    \n",
    "    median_filtered = cv2.medianBlur(binarized, 5)\n",
    "    eroded = cv2.erode(median_filtered, np.ones((3, 3), np.uint8))\n",
    "    dilated = cv2.dilate(eroded, np.ones((5, 5), np.uint8))\n",
    "\n",
    "    cv2.imshow('diff', dilated)\n",
    "    cv2.waitKey(1)\n",
    "cv2.destroyAllWindows()"
   ]
  },
  {
   "cell_type": "code",
   "execution_count": 58,
   "metadata": {},
   "outputs": [
    {
     "name": "stdout",
     "output_type": "stream",
     "text": [
      "Precision: 0.9529665738648073\n",
      "Recall: 0.8724676688641839\n",
      "F1: 0.9109421810367051\n"
     ]
    }
   ],
   "source": [
    "TP = 0\n",
    "TN = 0\n",
    "FP = 0\n",
    "FN = 0\n",
    "\n",
    "for i in range(300, num_samples):\n",
    "    I = cv2.imread('../data/lab2-3/pedestrian/input/in' + str(i).zfill(6) + '.jpg')\n",
    "    IG = cv2.cvtColor(I, cv2.COLOR_BGR2GRAY)\n",
    "    BUF[:, :, iN] = IG\n",
    "    iN = (iN + 1) % N\n",
    "\n",
    "    median = np.median(BUF, axis=2).astype(np.uint8)\n",
    "    diff = cv2.absdiff(median, IG)\n",
    "\n",
    "    T, binarized = cv2.threshold(diff, 20, 255, cv2.THRESH_BINARY)\n",
    "    \n",
    "    median_filtered = cv2.medianBlur(binarized, 5)\n",
    "    eroded = cv2.erode(median_filtered, np.ones((3, 3), np.uint8))\n",
    "    dilated = cv2.dilate(eroded, np.ones((5, 5), np.uint8))\n",
    "\n",
    "    groundtruth = cv2.imread('../data/lab2-3/pedestrian/groundtruth/gt' + str(i).zfill(6) + '.png')\n",
    "    groundtruth = cv2.cvtColor(groundtruth, cv2.COLOR_BGR2GRAY)\n",
    "\n",
    "    TP_matrix = np.logical_and((dilated > 0), (groundtruth > 0))\n",
    "    TN_matrix = np.logical_and((dilated == 0), (groundtruth == 0))\n",
    "    FP_matrix = np.logical_and((dilated > 0), (groundtruth == 0))\n",
    "    FN_matrix = np.logical_and((dilated == 0), (groundtruth > 0))\n",
    "\n",
    "    TP += TP_matrix.sum()\n",
    "    TN += TN_matrix.sum()\n",
    "    FP += FP_matrix.sum()\n",
    "    FN += FN_matrix.sum()\n",
    "\n",
    "P = TP / (TP + FP)\n",
    "R = TP / (TP + FN)\n",
    "F1 = 2 * P * R / (P + R)\n",
    "\n",
    "print('Precision:', P)\n",
    "print('Recall:', R)\n",
    "print('F1:', F1)"
   ]
  },
  {
   "cell_type": "markdown",
   "metadata": {},
   "source": [
    "## Zadanie 3.2"
   ]
  },
  {
   "cell_type": "markdown",
   "metadata": {},
   "source": [
    "#### Aproksymacja średniej"
   ]
  },
  {
   "cell_type": "code",
   "execution_count": 59,
   "metadata": {},
   "outputs": [],
   "source": [
    "I = cv2.imread('../data/lab2-3/pedestrian/input/in000300.jpg')\n",
    "BG = cv2.cvtColor(I, cv2.COLOR_BGR2GRAY)\n",
    "alpha = 0.01\n",
    "\n",
    "for i in range(301, num_samples):\n",
    "    I = cv2.imread('../data/lab2-3/pedestrian/input/in' + str(i).zfill(6) + '.jpg')\n",
    "    IG = cv2.cvtColor(I, cv2.COLOR_BGR2GRAY)\n",
    "\n",
    "    BG = (1 - alpha) * BG + alpha * IG\n",
    "    diff = cv2.absdiff(BG.astype(np.uint8), IG)\n",
    "\n",
    "    T, binarized = cv2.threshold(diff, 20, 255, cv2.THRESH_BINARY)\n",
    "    median_filtered = cv2.medianBlur(binarized, 5)\n",
    "    eroded = cv2.erode(median_filtered, np.ones((3, 3), np.uint8))\n",
    "    dilated = cv2.dilate(eroded, np.ones((5, 5), np.uint8))\n",
    "\n",
    "    cv2.imshow('diff', dilated)\n",
    "    cv2.waitKey(1)\n",
    "cv2.destroyAllWindows()"
   ]
  },
  {
   "cell_type": "code",
   "execution_count": 60,
   "metadata": {},
   "outputs": [
    {
     "name": "stdout",
     "output_type": "stream",
     "text": [
      "Precision: 0.9386583479513319\n",
      "Recall: 0.8570259896343363\n",
      "F1: 0.8959866528246562\n"
     ]
    }
   ],
   "source": [
    "TP = 0\n",
    "TN = 0\n",
    "FP = 0\n",
    "FN = 0\n",
    "\n",
    "I = cv2.imread('../data/lab2-3/pedestrian/input/in000300.jpg')\n",
    "BG = cv2.cvtColor(I, cv2.COLOR_BGR2GRAY)\n",
    "alpha = 0.01\n",
    "\n",
    "for i in range(301, num_samples):\n",
    "    I = cv2.imread('../data/lab2-3/pedestrian/input/in' + str(i).zfill(6) + '.jpg')\n",
    "    IG = cv2.cvtColor(I, cv2.COLOR_BGR2GRAY)\n",
    "\n",
    "    BG = (1 - alpha) * BG + alpha * IG\n",
    "    diff = cv2.absdiff(BG.astype(np.uint8), IG)\n",
    "\n",
    "    T, binarized = cv2.threshold(diff, 20, 255, cv2.THRESH_BINARY)\n",
    "    median_filtered = cv2.medianBlur(binarized, 5)\n",
    "    eroded = cv2.erode(median_filtered, np.ones((3, 3), np.uint8))\n",
    "    dilated = cv2.dilate(eroded, np.ones((5, 5), np.uint8))\n",
    "\n",
    "    groundtruth = cv2.imread('../data/lab2-3/pedestrian/groundtruth/gt' + str(i).zfill(6) + '.png')\n",
    "    groundtruth = cv2.cvtColor(groundtruth, cv2.COLOR_BGR2GRAY)\n",
    "\n",
    "    TP_matrix = np.logical_and((dilated > 0), (groundtruth > 0))\n",
    "    TN_matrix = np.logical_and((dilated == 0), (groundtruth == 0))\n",
    "    FP_matrix = np.logical_and((dilated > 0), (groundtruth == 0))\n",
    "    FN_matrix = np.logical_and((dilated == 0), (groundtruth > 0))\n",
    "\n",
    "    TP += TP_matrix.sum()\n",
    "    TN += TN_matrix.sum()\n",
    "    FP += FP_matrix.sum()\n",
    "    FN += FN_matrix.sum()\n",
    "\n",
    "P = TP / (TP + FP)\n",
    "R = TP / (TP + FN)\n",
    "F1 = 2 * P * R / (P + R)\n",
    "\n",
    "print('Precision:', P)\n",
    "print('Recall:', R)\n",
    "print('F1:', F1)"
   ]
  },
  {
   "cell_type": "markdown",
   "metadata": {},
   "source": [
    "#### Aproksymacja mediany"
   ]
  },
  {
   "cell_type": "code",
   "execution_count": 62,
   "metadata": {},
   "outputs": [
    {
     "ename": "TypeError",
     "evalue": "NumPy boolean array indexing assignment requires a 0 or 1-dimensional input, input has 2 dimensions",
     "output_type": "error",
     "traceback": [
      "\u001b[0;31m---------------------------------------------------------------------------\u001b[0m",
      "\u001b[0;31mTypeError\u001b[0m                                 Traceback (most recent call last)",
      "Cell \u001b[0;32mIn[62], line 9\u001b[0m\n\u001b[1;32m      6\u001b[0m I \u001b[38;5;241m=\u001b[39m cv2\u001b[38;5;241m.\u001b[39mimread(\u001b[38;5;124m'\u001b[39m\u001b[38;5;124m../data/lab2-3/pedestrian/input/in\u001b[39m\u001b[38;5;124m'\u001b[39m \u001b[38;5;241m+\u001b[39m \u001b[38;5;28mstr\u001b[39m(i)\u001b[38;5;241m.\u001b[39mzfill(\u001b[38;5;241m6\u001b[39m) \u001b[38;5;241m+\u001b[39m \u001b[38;5;124m'\u001b[39m\u001b[38;5;124m.jpg\u001b[39m\u001b[38;5;124m'\u001b[39m)\n\u001b[1;32m      7\u001b[0m IG \u001b[38;5;241m=\u001b[39m cv2\u001b[38;5;241m.\u001b[39mcvtColor(I, cv2\u001b[38;5;241m.\u001b[39mCOLOR_BGR2GRAY)\n\u001b[0;32m----> 9\u001b[0m \u001b[43mBG\u001b[49m\u001b[43m[\u001b[49m\u001b[43mBG\u001b[49m\u001b[43m \u001b[49m\u001b[38;5;241;43m<\u001b[39;49m\u001b[43m \u001b[49m\u001b[43mIG\u001b[49m\u001b[43m]\u001b[49m \u001b[38;5;241m=\u001b[39m BG \u001b[38;5;241m+\u001b[39m \u001b[38;5;241m1\u001b[39m\n\u001b[1;32m     10\u001b[0m BG[BG \u001b[38;5;241m>\u001b[39m IG] \u001b[38;5;241m=\u001b[39m BG \u001b[38;5;241m-\u001b[39m \u001b[38;5;241m1\u001b[39m\n\u001b[1;32m     11\u001b[0m \u001b[38;5;66;03m# BG[BG == IG] = BG\u001b[39;00m\n",
      "\u001b[0;31mTypeError\u001b[0m: NumPy boolean array indexing assignment requires a 0 or 1-dimensional input, input has 2 dimensions"
     ]
    }
   ],
   "source": [
    "I = cv2.imread('../data/lab2-3/pedestrian/input/in000300.jpg')\n",
    "BG = cv2.cvtColor(I, cv2.COLOR_BGR2GRAY)\n",
    "alpha = 0.01\n",
    "\n",
    "for i in range(301, num_samples):\n",
    "    I = cv2.imread('../data/lab2-3/pedestrian/input/in' + str(i).zfill(6) + '.jpg')\n",
    "    IG = cv2.cvtColor(I, cv2.COLOR_BGR2GRAY)\n",
    "\n",
    "    BG[BG < IG] = BG + 1\n",
    "    BG[BG > IG] = BG - 1\n",
    "    # BG[BG == IG] = BG\n",
    "        \n",
    "    diff = cv2.absdiff(BG.astype(np.uint8), IG)\n",
    "\n",
    "    T, binarized = cv2.threshold(diff, 20, 255, cv2.THRESH_BINARY)\n",
    "    median_filtered = cv2.medianBlur(binarized, 5)\n",
    "    eroded = cv2.erode(median_filtered, np.ones((3, 3), np.uint8))\n",
    "    dilated = cv2.dilate(eroded, np.ones((5, 5), np.uint8))\n",
    "\n",
    "    cv2.imshow('diff', dilated)\n",
    "    cv2.waitKey(1)\n",
    "cv2.destroyAllWindows()"
   ]
  },
  {
   "cell_type": "code",
   "execution_count": null,
   "metadata": {},
   "outputs": [],
   "source": []
  }
 ],
 "metadata": {
  "kernelspec": {
   "display_name": "poc",
   "language": "python",
   "name": "python3"
  },
  "language_info": {
   "codemirror_mode": {
    "name": "ipython",
    "version": 3
   },
   "file_extension": ".py",
   "mimetype": "text/x-python",
   "name": "python",
   "nbconvert_exporter": "python",
   "pygments_lexer": "ipython3",
   "version": "3.11.5"
  }
 },
 "nbformat": 4,
 "nbformat_minor": 2
}
